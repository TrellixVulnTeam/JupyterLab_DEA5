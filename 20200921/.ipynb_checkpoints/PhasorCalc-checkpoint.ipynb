{
 "cells": [
  {
   "cell_type": "code",
   "execution_count": 22,
   "metadata": {},
   "outputs": [],
   "source": [
    "import cmath\n",
    "PI = 3.14"
   ]
  },
  {
   "cell_type": "markdown",
   "metadata": {},
   "source": [
    "**求共轭复数** `conjugate()`   \n",
    "**求复数模值** `__abs__()`   \n",
    "**极坐标 -> 标准形式** `rect()`   \n",
    "**标准形式 -> 极坐标** `polar()`"
   ]
  },
  {
   "cell_type": "code",
   "execution_count": 43,
   "metadata": {},
   "outputs": [
    {
     "name": "stdout",
     "output_type": "stream",
     "text": [
      "弧度制：5.000 ∠0.927\n",
      "角度制：5.000 ∠53.157°\n"
     ]
    }
   ],
   "source": [
    "# 标准形式 -> 极坐标\n",
    "Real   = 3\n",
    "Imagin = 4\n",
    "x = complex(Real, Imagin)\n",
    "polar_result = polar(x)\n",
    "\n",
    "print(\"弧度制：%.3f ∠%.3f\" %(polar_result[0], polar_result[1]))\n",
    "print(\"角度制：%.3f ∠%.3f°\" %(polar_result[0], polar_result[1]/PI*180))"
   ]
  },
  {
   "cell_type": "code",
   "execution_count": 42,
   "metadata": {},
   "outputs": [
    {
     "name": "stdout",
     "output_type": "stream",
     "text": [
      "5.005 + j8.658 \n"
     ]
    }
   ],
   "source": [
    "# 极坐标 -> 标准形式\n",
    "Modulus = 10\n",
    "DegAngle = 60\n",
    "RadAngle = DegAngle/180*PI\n",
    "# RadAngle = 0.785\n",
    "rect_result = rect(Modulus, RadAngle)\n",
    "\n",
    "print(\"%.3f + j%.3f \" %(rect_result.real, rect_result.imag))"
   ]
  },
  {
   "cell_type": "code",
   "execution_count": null,
   "metadata": {},
   "outputs": [],
   "source": []
  }
 ],
 "metadata": {
  "kernelspec": {
   "display_name": "Python 3",
   "language": "python",
   "name": "python3"
  },
  "language_info": {
   "codemirror_mode": {
    "name": "ipython",
    "version": 3
   },
   "file_extension": ".py",
   "mimetype": "text/x-python",
   "name": "python",
   "nbconvert_exporter": "python",
   "pygments_lexer": "ipython3",
   "version": "3.7.6"
  }
 },
 "nbformat": 4,
 "nbformat_minor": 4
}
